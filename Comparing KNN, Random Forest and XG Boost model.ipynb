{
 "cells": [
  {
   "cell_type": "code",
   "execution_count": 1,
   "id": "bf23c63f",
   "metadata": {},
   "outputs": [
    {
     "name": "stdout",
     "output_type": "stream",
     "text": [
      "Requirement already satisfied: regressor in ./opt/anaconda3/lib/python3.9/site-packages (1.0.6)\n",
      "Requirement already satisfied: scipy in ./opt/anaconda3/lib/python3.9/site-packages (from regressor) (1.7.1)\n",
      "Requirement already satisfied: numpy in ./opt/anaconda3/lib/python3.9/site-packages (from regressor) (1.20.3)\n",
      "Note: you may need to restart the kernel to use updated packages.\n"
     ]
    }
   ],
   "source": [
    "pip install regressor"
   ]
  },
  {
   "cell_type": "code",
   "execution_count": null,
   "id": "943acfcc",
   "metadata": {},
   "outputs": [],
   "source": [
    "# Import libraries\n",
    "import pandas as pd\n",
    "from sklearn import preprocessing\n",
    "from sklearn.model_selection import train_test_split\n",
    "from regressor import stats\n",
    "from sklearn.metrics import mean_squared_error\n",
    "from xgboost import XGBRegressor\n",
    "from dmba import regressionSummary\n",
    "from sklearn.ensemble import RandomForestRegressor\n",
    "from sklearn.neighbors import KNeighborsRegressor"
   ]
  },
  {
   "cell_type": "code",
   "execution_count": null,
   "id": "6f51759b",
   "metadata": {},
   "outputs": [],
   "source": [
    "# Read data\n",
    "df = pd.read_csv(\"BostonHousing.csv\")\n",
    "df"
   ]
  },
  {
   "cell_type": "code",
   "execution_count": null,
   "id": "2e7c2369",
   "metadata": {},
   "outputs": [],
   "source": [
    "# Define target variable and predictors\n",
    "t_variable = df['MEDV']\n",
    "predictors = df.drop(['MEDV', 'CAT. MEDV'],axis=1)\n",
    "# Apply minmax normalization on predictors \n",
    "min_max_scaler = preprocessing.MinMaxScaler()\n",
    "predictors_normalized = pd.DataFrame(min_max_scaler.fit_transform(predictors))\n",
    "predictors_normalized.columns = predictors.columns\n",
    "predictors_normalized"
   ]
  },
  {
   "cell_type": "code",
   "execution_count": null,
   "id": "3ac2e664",
   "metadata": {},
   "outputs": [],
   "source": [
    "# Partition the data\n",
    "predictors_train, predictors_test, t_variable_train, t_variable_test = train_test_split(predictors_normalized, t_variable, test_size=0.4, random_state=0)\n",
    "print(predictors_train.shape, predictors_test.shape, t_variable_train.shape, t_variable_test.shape)"
   ]
  },
  {
   "cell_type": "markdown",
   "id": "70ca560c",
   "metadata": {},
   "source": [
    "## K=1"
   ]
  },
  {
   "cell_type": "code",
   "execution_count": null,
   "id": "e8a2a9af",
   "metadata": {},
   "outputs": [],
   "source": [
    "knntree = KNeighborsRegressor(n_neighbors = 1, weights = 'uniform')\n",
    "knntree.fit(predictors_train, t_variable_train)\n",
    "regressionSummary(t_variable_train, knntree.predict(predictors_train))\n",
    "regressionSummary(t_variable_test, knntree.predict(predictors_test))"
   ]
  },
  {
   "cell_type": "markdown",
   "id": "23f85f14",
   "metadata": {},
   "source": [
    "## K=2"
   ]
  },
  {
   "cell_type": "code",
   "execution_count": null,
   "id": "256d421b",
   "metadata": {},
   "outputs": [],
   "source": [
    "knntree = KNeighborsRegressor(n_neighbors = 2, weights = 'uniform')\n",
    "knntree.fit(predictors_train, t_variable_train)\n",
    "regressionSummary(t_variable_train, knntree.predict(predictors_train))\n",
    "regressionSummary(t_variable_test, knntree.predict(predictors_test))"
   ]
  },
  {
   "cell_type": "markdown",
   "id": "df81e555",
   "metadata": {},
   "source": [
    "## K=3"
   ]
  },
  {
   "cell_type": "code",
   "execution_count": null,
   "id": "bc852ddc",
   "metadata": {},
   "outputs": [],
   "source": [
    "knntree = KNeighborsRegressor(n_neighbors = 3, weights = 'uniform')\n",
    "knntree.fit(predictors_train, t_variable_train)\n",
    "regressionSummary(t_variable_train, knntree.predict(predictors_train))\n",
    "regressionSummary(t_variable_test, knntree.predict(predictors_test))"
   ]
  },
  {
   "cell_type": "markdown",
   "id": "68a7c2a8",
   "metadata": {},
   "source": [
    "## K=4"
   ]
  },
  {
   "cell_type": "code",
   "execution_count": null,
   "id": "61fe4579",
   "metadata": {},
   "outputs": [],
   "source": [
    "knntree = KNeighborsRegressor(n_neighbors = 4, weights = 'uniform')\n",
    "knntree.fit(predictors_train, t_variable_train)\n",
    "regressionSummary(t_variable_train, knntree.predict(predictors_train))\n",
    "regressionSummary(t_variable_test, knntree.predict(predictors_test))"
   ]
  },
  {
   "cell_type": "markdown",
   "id": "cd09b612",
   "metadata": {},
   "source": [
    "## K=5"
   ]
  },
  {
   "cell_type": "code",
   "execution_count": null,
   "id": "b5f387ef",
   "metadata": {},
   "outputs": [],
   "source": [
    "knntree = KNeighborsRegressor(n_neighbors = 1, weights = 'uniform')\n",
    "knntree.fit(predictors_train, t_variable_train)\n",
    "regressionSummary(t_variable_train, knntree.predict(predictors_train))\n",
    "regressionSummary(t_variable_test, knntree.predict(predictors_test))"
   ]
  },
  {
   "cell_type": "markdown",
   "id": "cc3261c3",
   "metadata": {},
   "source": [
    "## Best K: K=2 has the lowest RMSE value hence the model with k=2 is the best out of all."
   ]
  },
  {
   "cell_type": "markdown",
   "id": "47daf90a",
   "metadata": {},
   "source": [
    "# Random forest"
   ]
  },
  {
   "cell_type": "code",
   "execution_count": null,
   "id": "f37027ae",
   "metadata": {},
   "outputs": [],
   "source": [
    "rftree = RandomForestRegressor(max_depth = 7)\n",
    "rftree.fit(predictors_train, t_variable_train)\n",
    "regressionSummary(t_variable_train, knntree.predict(predictors_train))\n",
    "regressionSummary(t_variable_test, knntree.predict(predictors_test))"
   ]
  },
  {
   "cell_type": "markdown",
   "id": "19d9d0be",
   "metadata": {},
   "source": [
    "## The RMSE value for Random forest model is higher than the KNN (K=2) model. Hence KNN (K=2) model is still best."
   ]
  },
  {
   "cell_type": "markdown",
   "id": "08c38811",
   "metadata": {},
   "source": [
    "# XGBoost "
   ]
  },
  {
   "cell_type": "code",
   "execution_count": null,
   "id": "04262eab",
   "metadata": {},
   "outputs": [],
   "source": [
    "model_xg = XGBRegressor()\n",
    "model_xg.fit(predictors_train, t_variable_train)\n",
    "regressionSummary(t_variable_train, model_xg.predict(predictors_train))\n",
    "regressionSummary(t_variable_test, model_xg.predict(predictors_test))"
   ]
  },
  {
   "cell_type": "markdown",
   "id": "fbe0b23a",
   "metadata": {},
   "source": [
    "## The RMSE value for XGBoost model on validation set is higher than all the above models. Hence it would not be wise to use this model."
   ]
  },
  {
   "cell_type": "code",
   "execution_count": null,
   "id": "37c04985",
   "metadata": {},
   "outputs": [],
   "source": []
  }
 ],
 "metadata": {
  "kernelspec": {
   "display_name": "Python 3 (ipykernel)",
   "language": "python",
   "name": "python3"
  },
  "language_info": {
   "codemirror_mode": {
    "name": "ipython",
    "version": 3
   },
   "file_extension": ".py",
   "mimetype": "text/x-python",
   "name": "python",
   "nbconvert_exporter": "python",
   "pygments_lexer": "ipython3",
   "version": "3.9.7"
  }
 },
 "nbformat": 4,
 "nbformat_minor": 5
}
